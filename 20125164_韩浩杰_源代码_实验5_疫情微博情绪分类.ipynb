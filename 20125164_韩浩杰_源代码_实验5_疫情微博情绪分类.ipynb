{
 "metadata": {
  "language_info": {
   "codemirror_mode": {
    "name": "ipython",
    "version": 3
   },
   "file_extension": ".py",
   "mimetype": "text/x-python",
   "name": "python",
   "nbconvert_exporter": "python",
   "pygments_lexer": "ipython3",
   "version": "3.6.10-final"
  },
  "orig_nbformat": 2,
  "kernelspec": {
   "name": "py36",
   "display_name": "py36"
  }
 },
 "nbformat": 4,
 "nbformat_minor": 2,
 "cells": [
  {
   "cell_type": "code",
   "execution_count": 1,
   "metadata": {},
   "outputs": [],
   "source": [
    "import torch\n",
    "import torchvision\n",
    "import torch.nn as nn\n",
    "import json\n",
    "import jieba\n",
    "import time\n",
    "import numpy as np\n",
    "from numpy import math\n",
    "from gensim.models import word2vec as word\n",
    "import torchtext.vocab as Vocab\n",
    "import torch.utils.data as Data\n",
    "import matplotlib.pyplot as plt\n",
    "import seaborn as sns\n",
    "\n",
    "device = torch.device('cuda' if torch.cuda.is_available() else 'cpu')\n",
    "data_dir = 'E:\\Jason\\Documents\\深度学习\\实验五\\dataset'"
   ]
  },
  {
   "cell_type": "markdown",
   "metadata": {},
   "source": [
    "## 1 词向量训练"
   ]
  },
  {
   "cell_type": "code",
   "execution_count": 2,
   "metadata": {
    "tags": []
   },
   "outputs": [
    {
     "output_type": "stream",
     "name": "stdout",
     "text": "train: 6606, valid: 2000\ntest: 2000\n"
    }
   ],
   "source": [
    "# 读取数据\n",
    "with open(data_dir+'/virus_train.txt','r', encoding='utf-8') as load_file:\n",
    "    load_file = json.load(load_file)\n",
    "    train_valid_split = 6606\n",
    "    load_train = load_file[:train_valid_split]\n",
    "    load_valid = load_file[train_valid_split:]\n",
    "    print('train: %d, valid: %d' % (len(load_train), len(load_valid)))\n",
    "with open(data_dir+'/virus_eval_labeled.txt', 'r', encoding='utf-8') as load_file:\n",
    "    load_test = json.load(load_file)\n",
    "    print('test: %d' % (len(load_test)))\n",
    "load_file.close()"
   ]
  },
  {
   "cell_type": "code",
   "execution_count": 3,
   "metadata": {},
   "outputs": [],
   "source": [
    "# 分词(运行一次即可，保存至本地)\n",
    "# stopwords = [line.strip() for line in open('stopword.txt', 'r', encoding='utf-8').readlines()]\n",
    "# for sentence in load_train:\n",
    "#     word_cut = jieba.cut(sentence['content'])\n",
    "#     for words in word_cut:\n",
    "#         if words not in stopwords:\n",
    "#             if words != '\\t':\n",
    "#                 with open('word_cut.txt', 'a', errors='ignore', encoding='utf-8') as save_file:\n",
    "#                     save_file.write(words+\" \")\n",
    "# save_file.close()\n",
    "\n",
    "# for sentence in load_train:\n",
    "#     word_cut = jieba.cut(sentence['content'])\n",
    "#     with open('word_cut_nonestop.txt', 'a', errors='ignore', encoding='utf-8') as save_file:\n",
    "#         save_file.write(\" \".join(word_cut))\n",
    "# save_file.close()"
   ]
  },
  {
   "cell_type": "code",
   "execution_count": 4,
   "metadata": {
    "tags": []
   },
   "outputs": [
    {
     "output_type": "stream",
     "name": "stdout",
     "text": "17766\n"
    },
    {
     "output_type": "execute_result",
     "data": {
      "text/plain": " <gensim.models.keyedvectors.Vocab at 0x1fe7be5fac8>,\n '獾': <gensim.models.keyedvectors.Vocab at 0x1fe7be5fb00>,\n '野生动物': <gensim.models.keyedvectors.Vocab at 0x1fe7be5fb38>,\n '别去': <gensim.models.keyedvectors.Vocab at 0x1fe7be5fb70>,\n '碰': <gensim.models.keyedvectors.Vocab at 0x1fe7be5fba8>,\n '近期': <gensim.models.keyedvectors.Vocab at 0x1fe7be5fc18>,\n '就医': <gensim.models.keyedvectors.Vocab at 0x1fe7be5fc88>,\n 'N95': <gensim.models.keyedvectors.Vocab at 0x1fe7be5fcc0>,\n '起到': <gensim.models.keyedvectors.Vocab at 0x1fe7be5fcf8>,\n '阻止': <gensim.models.keyedvectors.Vocab at 0x1fe7be5fd30>,\n '飞沫': <gensim.models.keyedvectors.Vocab at 0x1fe7be5fda0>,\n '作用': <gensim.models.keyedvectors.Vocab at 0x1fe7be5fdd8>,\n '看好': <gensim.models.keyedvectors.Vocab at 0x1fe7be5fe10>,\n '妈': <gensim.models.keyedvectors.Vocab at 0x1fe7be5fe48>,\n 'RDUnNFD': <gensim.models.keyedvectors.Vocab at 0x1fe7be5fe80>,\n '西安': <gensim.models.keyedvectors.Vocab at 0x1fe7be5ff28>,\n '肖战': <gensim.models.keyedvectors.Vocab at 0x1fe7be5ffd0>,\n '注意安全': <gensim.models.keyedvectors.Vocab at 0x1fe7be76048>,\n '害羞': <gensim.models.keyedvectors.Vocab at 0x1fe7be76080>,\n '搜噶': <gensim.models.keyedvectors.Vocab at 0x1fe7be760b8>,\n '卡哇伊': <gensim.models.keyedvectors.Vocab at 0x1fe7be76128>,\n '迪斯': <gensim.models.keyedvectors.Vocab at 0x1fe7be76160>,\n '捏': <gensim.models.keyedvectors.Vocab at 0x1fe7be76198>,\n '生病': <gensim.models.keyedvectors.Vocab at 0x1fe7be761d0>,\n '吭': <gensim.models.keyedvectors.Vocab at 0x1fe7be76208>,\n '鸡肉': <gensim.models.keyedvectors.Vocab at 0x1fe7be76240>,\n '猪肉': <gensim.models.keyedvectors.Vocab at 0x1fe7be76278>,\n '鱼肉': <gensim.models.keyedvectors.Vocab at 0x1fe7be762e8>,\n '蝙蝠': <gensim.models.keyedvectors.Vocab at 0x1fe7be76358>,\n '招': <gensim.models.keyedvectors.Vocab at 0x1fe7be76390>,\n '惹': <gensim.models.keyedvectors.Vocab at 0x1fe7be76438>,\n '自作孽': <gensim.models.keyedvectors.Vocab at 0x1fe7be76518>,\n '违背': <gensim.models.keyedvectors.Vocab at 0x1fe7be76550>,\n '自然规律': <gensim.models.keyedvectors.Vocab at 0x1fe7be76588>,\n '非典': <gensim.models.keyedvectors.Vocab at 0x1fe7be76630>,\n '金莲': <gensim.models.keyedvectors.Vocab at 0x1fe7be76668>,\n '清热': <gensim.models.keyedvectors.Vocab at 0x1fe7be76710>,\n '泡腾片': <gensim.models.keyedvectors.Vocab at 0x1fe7be76780>,\n '防治': <gensim.models.keyedvectors.Vocab at 0x1fe7be767b8>,\n '指挥部': <gensim.models.keyedvectors.Vocab at 0x1fe7be767f0>,\n '科技': <gensim.models.keyedvectors.Vocab at 0x1fe7be76860>,\n '攻关组': <gensim.models.keyedvectors.Vocab at 0x1fe7be76898>,\n '验证': <gensim.models.keyedvectors.Vocab at 0x1fe7be768d0>,\n '病毒性': <gensim.models.keyedvectors.Vocab at 0x1fe7be76908>,\n '高热': <gensim.models.keyedvectors.Vocab at 0x1fe7be76940>,\n '中成药': <gensim.models.keyedvectors.Vocab at 0x1fe7be76978>,\n '世界卫生组织': <gensim.models.keyedvectors.Vocab at 0x1fe7be769b0>,\n '正式': <gensim.models.keyedvectors.Vocab at 0x1fe7be76a20>,\n '变种': <gensim.models.keyedvectors.Vocab at 0x1fe7be76a58>,\n '非典型': <gensim.models.keyedvectors.Vocab at 0x1fe7be76a90>,\n '病原体': <gensim.models.keyedvectors.Vocab at 0x1fe7be76ac8>,\n '常备': <gensim.models.keyedvectors.Vocab at 0x1fe7be76b00>,\n '抵抗': <gensim.models.keyedvectors.Vocab at 0x1fe7be76b38>,\n '安心': <gensim.models.keyedvectors.Vocab at 0x1fe7be76b70>,\n '过年': <gensim.models.keyedvectors.Vocab at 0x1fe7be76ba8>,\n '噢': <gensim.models.keyedvectors.Vocab at 0x1fe7be76be0>,\n '华晨': <gensim.models.keyedvectors.Vocab at 0x1fe7be76c18>,\n '宇': <gensim.models.keyedvectors.Vocab at 0x1fe7be76cc0>,\n 'yu': <gensim.models.keyedvectors.Vocab at 0x1fe7be76cf8>,\n '防疫': <gensim.models.keyedvectors.Vocab at 0x1fe7be76d68>,\n '我妈': <gensim.models.keyedvectors.Vocab at 0x1fe7be76da0>,\n '发烧': <gensim.models.keyedvectors.Vocab at 0x1fe7be76dd8>,\n '天': <gensim.models.keyedvectors.Vocab at 0x1fe7be76e10>,\n '怕死': <gensim.models.keyedvectors.Vocab at 0x1fe7be76e48>,\n '天之大': <gensim.models.keyedvectors.Vocab at 0x1fe7be76e80>,\n '83802': <gensim.models.keyedvectors.Vocab at 0x1fe7be76f60>,\n '卷卷': <gensim.models.keyedvectors.Vocab at 0x1fe7be76f98>,\n '福': <gensim.models.keyedvectors.Vocab at 0x1fe7be76fd0>,\n '秦': <gensim.models.keyedvectors.Vocab at 0x1fe7be8a048>,\n '俊杰': <gensim.models.keyedvectors.Vocab at 0x1fe7be8a080>,\n '健健康康': <gensim.models.keyedvectors.Vocab at 0x1fe7be8a0b8>,\n '耐高温': <gensim.models.keyedvectors.Vocab at 0x1fe7be8a0f0>,\n '没关系': <gensim.models.keyedvectors.Vocab at 0x1fe7be8a128>,\n '坚信': <gensim.models.keyedvectors.Vocab at 0x1fe7be8a160>,\n '我大': <gensim.models.keyedvectors.Vocab at 0x1fe7be8a198>,\n '渡过': <gensim.models.keyedvectors.Vocab at 0x1fe7be8a1d0>,\n '难关': <gensim.models.keyedvectors.Vocab at 0x1fe7be8a208>,\n 'R2WxQOQ': <gensim.models.keyedvectors.Vocab at 0x1fe7be8a240>,\n '爽': <gensim.models.keyedvectors.Vocab at 0x1fe7be8a278>,\n '惊赞': <gensim.models.keyedvectors.Vocab at 0x1fe7be8a2e8>,\n '冠军': <gensim.models.keyedvectors.Vocab at 0x1fe7be8a320>,\n '诞生': <gensim.models.keyedvectors.Vocab at 0x1fe7be8a358>,\n '防疫站': <gensim.models.keyedvectors.Vocab at 0x1fe7be8a390>,\n '曹曦': <gensim.models.keyedvectors.Vocab at 0x1fe7be8a3c8>,\n '月': <gensim.models.keyedvectors.Vocab at 0x1fe7be8a400>,\n 'TFBOYS': <gensim.models.keyedvectors.Vocab at 0x1fe7be8a4a8>,\n '王俊凯': <gensim.models.keyedvectors.Vocab at 0x1fe7be8a4e0>,\n '组合': <gensim.models.keyedvectors.Vocab at 0x1fe7be8a518>,\n '厂': <gensim.models.keyedvectors.Vocab at 0x1fe7be8a550>,\n '加急': <gensim.models.keyedvectors.Vocab at 0x1fe7be8a588>,\n '生产': <gensim.models.keyedvectors.Vocab at 0x1fe7be8a5c0>,\n '画面': <gensim.models.keyedvectors.Vocab at 0x1fe7be8a5f8>,\n '曝光': <gensim.models.keyedvectors.Vocab at 0x1fe7be8a668>,\n '百人': <gensim.models.keyedvectors.Vocab at 0x1fe7be8a6a0>,\n '倍': <gensim.models.keyedvectors.Vocab at 0x1fe7be8a6d8>,\n '工资': <gensim.models.keyedvectors.Vocab at 0x1fe7be8a710>,\n '返厂': <gensim.models.keyedvectors.Vocab at 0x1fe7be8a748>,\n '最低': <gensim.models.keyedvectors.Vocab at 0x1fe7be8a780>,\n '日产': <gensim.models.keyedvectors.Vocab at 0x1fe7be8a7f0>,\n '万': <gensim.models.keyedvectors.Vocab at 0x1fe7be8a860>,\n '话筒': <gensim.models.keyedvectors.Vocab at 0x1fe7be8a898>,\n '2020': <gensim.models.keyedvectors.Vocab at 0x1fe7be8a8d0>,\n '23': <gensim.models.keyedvectors.Vocab at 0x1fe7be8a908>,\n '多地': <gensim.models.keyedvectors.Vocab at 0x1fe7be8a940>,\n '发现': <gensim.models.keyedvectors.Vocab at 0x1fe7be8a978>,\n '物资': <gensim.models.keyedvectors.Vocab at 0x1fe7be8a9e8>,\n '短缺': <gensim.models.keyedvectors.Vocab at 0x1fe7be8aa58>,\n '杭州': <gensim.models.keyedvectors.Vocab at 0x1fe7be8aa90>,\n '一家': <gensim.models.keyedvectors.Vocab at 0x1fe7be8aac8>,\n '厂以': <gensim.models.keyedvectors.Vocab at 0x1fe7be8ab70>,\n '三倍': <gensim.models.keyedvectors.Vocab at 0x1fe7be8aba8>,\n '喊回': <gensim.models.keyedvectors.Vocab at 0x1fe7be8abe0>,\n '120': <gensim.models.keyedvectors.Vocab at 0x1fe7be8ac18>,\n '多名': <gensim.models.keyedvectors.Vocab at 0x1fe7be8ac50>,\n '员工': <gensim.models.keyedvectors.Vocab at 0x1fe7be8ac88>,\n '车间': <gensim.models.keyedvectors.Vocab at 0x1fe7be8acc0>,\n '紧张': <gensim.models.keyedvectors.Vocab at 0x1fe7be8ad30>,\n '赶制': <gensim.models.keyedvectors.Vocab at 0x1fe7be8ad68>,\n '据介绍': <gensim.models.keyedvectors.Vocab at 0x1fe7be8ae10>,\n '工厂': <gensim.models.keyedvectors.Vocab at 0x1fe7be8ae48>,\n '年初': <gensim.models.keyedvectors.Vocab at 0x1fe7be8af28>,\n '四前': <gensim.models.keyedvectors.Vocab at 0x1fe7be8af60>,\n '确保': <gensim.models.keyedvectors.Vocab at 0x1fe7be8af98>,\n '初八': <gensim.models.keyedvectors.Vocab at 0x1fe7c2bb048>,\n '10': <gensim.models.keyedvectors.Vocab at 0x1fe7c2bb080>,\n '一名': <gensim.models.keyedvectors.Vocab at 0x1fe7c2bb0f0>,\n '成功': <gensim.models.keyedvectors.Vocab at 0x1fe7c2bb128>,\n '救治': <gensim.models.keyedvectors.Vocab at 0x1fe7c2bb160>,\n '应': <gensim.models.keyedvectors.Vocab at 0x1fe7c2bb198>,\n '认定': <gensim.models.keyedvectors.Vocab at 0x1fe7c2bb208>,\n '工伤': <gensim.models.keyedvectors.Vocab at 0x1fe7c2bb240>,\n 'A6PZIPQU': <gensim.models.keyedvectors.Vocab at 0x1fe7c2bb278>,\n '家里': <gensim.models.keyedvectors.Vocab at 0x1fe7c2bb2b0>,\n '消毒': <gensim.models.keyedvectors.Vocab at 0x1fe7c2bb2e8>,\n '卫生': <gensim.models.keyedvectors.Vocab at 0x1fe7c2bb358>,\n '为数不多': <gensim.models.keyedvectors.Vocab at 0x1fe7c2bb390>,\n 'good': <gensim.models.keyedvectors.Vocab at 0x1fe7c2bb3c8>,\n '魔幻': <gensim.models.keyedvectors.Vocab at 0x1fe7c2bb400>,\n '都样': <gensim.models.keyedvectors.Vocab at 0x1fe7c2bb438>,\n '愤怒': <gensim.models.keyedvectors.Vocab at 0x1fe7c2bb470>,\n '指责': <gensim.models.keyedvectors.Vocab at 0x1fe7c2bb4a8>,\n '三联': <gensim.models.keyedvectors.Vocab at 0x1fe7c2bb4e0>,\n '夸大': <gensim.models.keyedvectors.Vocab at 0x1fe7c2bb518>,\n '20': <gensim.models.keyedvectors.Vocab at 0x1fe7c2bb550>,\n '试图': <gensim.models.keyedvectors.Vocab at 0x1fe7c2bb588>,\n '失败': <gensim.models.keyedvectors.Vocab at 0x1fe7c2bb5c0>,\n '当成': <gensim.models.keyedvectors.Vocab at 0x1fe7c2bb5f8>,\n '源于': <gensim.models.keyedvectors.Vocab at 0x1fe7c2bb630>,\n '国家主义': <gensim.models.keyedvectors.Vocab at 0x1fe7c2bb668>,\n '走向': <gensim.models.keyedvectors.Vocab at 0x1fe7c2bb6a0>,\n '胜利': <gensim.models.keyedvectors.Vocab at 0x1fe7c2bb710>,\n '抓': <gensim.models.keyedvectors.Vocab at 0x1fe7c2bb748>,\n '几个': <gensim.models.keyedvectors.Vocab at 0x1fe7c2bb780>,\n '典型': <gensim.models.keyedvectors.Vocab at 0x1fe7c2bb7b8>,\n '反思': <gensim.models.keyedvectors.Vocab at 0x1fe7c2bb7f0>,\n 'nf': <gensim.models.keyedvectors.Vocab at 0x1fe7c2bb860>,\n 'Samuel': <gensim.models.keyedvectors.Vocab at 0x1fe7c2bb898>,\n '汪苏': <gensim.models.keyedvectors.Vocab at 0x1fe7c2bb8d0>,\n '泷': <gensim.models.keyedvectors.Vocab at 0x1fe7c2bb908>,\n '银河': <gensim.models.keyedvectors.Vocab at 0x1fe7c2bb9e8>,\n '护卫队': <gensim.models.keyedvectors.Vocab at 0x1fe7c2bba20>,\n 'Butithasnt': <gensim.models.keyedvectors.Vocab at 0x1fe7c2bba58>,\n '秋秋秋秋秋小醒': <gensim.models.keyedvectors.Vocab at 0x1fe7c2bba90>,\n '经历': <gensim.models.keyedvectors.Vocab at 0x1fe7c2bbac8>,\n '我国': <gensim.models.keyedvectors.Vocab at 0x1fe7c2bbb00>,\n '牛': <gensim.models.keyedvectors.Vocab at 0x1fe7c2bbb70>,\n '最爱': <gensim.models.keyedvectors.Vocab at 0x1fe7c2bbba8>,\n '张国荣': <gensim.models.keyedvectors.Vocab at 0x1fe7c2bbbe0>,\n '一声': <gensim.models.keyedvectors.Vocab at 0x1fe7c2bbc18>,\n '患病': <gensim.models.keyedvectors.Vocab at 0x1fe7c2bbc50>,\n '同胞们': <gensim.models.keyedvectors.Vocab at 0x1fe7c2bbc88>,\n '身后': <gensim.models.keyedvectors.Vocab at 0x1fe7c2bbcf8>,\n '增长': <gensim.models.keyedvectors.Vocab at 0x1fe7c2bbd30>,\n '吓人': <gensim.models.keyedvectors.Vocab at 0x1fe7c2bbd68>,\n '自觉': <gensim.models.keyedvectors.Vocab at 0x1fe7c2bbda0>,\n '怀着': <gensim.models.keyedvectors.Vocab at 0x1fe7c2bbdd8>,\n '侥幸心理': <gensim.models.keyedvectors.Vocab at 0x1fe7c2bbe48>,\n '新冠': <gensim.models.keyedvectors.Vocab at 0x1fe7c2bbe80>,\n '例': <gensim.models.keyedvectors.Vocab at 0x1fe7c2cd048>,\n '骂': <gensim.models.keyedvectors.Vocab at 0x1fe7c2cd128>,\n '热': <gensim.models.keyedvectors.Vocab at 0x1fe7c2cd160>,\n '搜': <gensim.models.keyedvectors.Vocab at 0x1fe7c2cd198>,\n '学学': <gensim.models.keyedvectors.Vocab at 0x1fe7c2cd1d0>,\n '抄': <gensim.models.keyedvectors.Vocab at 0x1fe7c2cd240>,\n '作业': <gensim.models.keyedvectors.Vocab at 0x1fe7c2cd278>,\n '囧': <gensim.models.keyedvectors.Vocab at 0x1fe7c2cd2e8>,\n '命运': <gensim.models.keyedvectors.Vocab at 0x1fe7c2cd390>,\n '坎坷': <gensim.models.keyedvectors.Vocab at 0x1fe7c2cd3c8>,\n '徐峥': <gensim.models.keyedvectors.Vocab at 0x1fe7c2cd400>,\n '提档': <gensim.models.keyedvectors.Vocab at 0x1fe7c2cd438>,\n '遭': <gensim.models.keyedvectors.Vocab at 0x1fe7c2cd470>,\n '陈思诚': <gensim.models.keyedvectors.Vocab at 0x1fe7c2cd518>,\n '怒斥': <gensim.models.keyedvectors.Vocab at 0x1fe7c2cd550>,\n '影院': <gensim.models.keyedvectors.Vocab at 0x1fe7c2cd588>,\n '狂': <gensim.models.keyedvectors.Vocab at 0x1fe7c2cd5c0>,\n '怼': <gensim.models.keyedvectors.Vocab at 0x1fe7c2cd668>,\n '440': <gensim.models.keyedvectors.Vocab at 0x1fe7c2cd6a0>,\n '死亡': <gensim.models.keyedvectors.Vocab at 0x1fe7c2cd6d8>,\n '80': <gensim.models.keyedvectors.Vocab at 0x1fe7c2cd710>,\n '多岁': <gensim.models.keyedvectors.Vocab at 0x1fe7c2cd780>,\n '奔波': <gensim.models.keyedvectors.Vocab at 0x1fe7c2cd7b8>,\n '首席专家': <gensim.models.keyedvectors.Vocab at 0x1fe7c2cd7f0>,\n '抗病毒': <gensim.models.keyedvectors.Vocab at 0x1fe7c2cd908>,\n '旗帜': <gensim.models.keyedvectors.Vocab at 0x1fe7c2cd940>,\n '精神支柱': <gensim.models.keyedvectors.Vocab at 0x1fe7c2cd978>,\n '中华': <gensim.models.keyedvectors.Vocab at 0x1fe7c2cd9b0>,\n '喵': <gensim.models.keyedvectors.Vocab at 0x1fe7c2cd9e8>,\n '爷': <gensim.models.keyedvectors.Vocab at 0x1fe7c2cda58>,\n '吴淼': <gensim.models.keyedvectors.Vocab at 0x1fe7c2cda90>,\n '看着': <gensim.models.keyedvectors.Vocab at 0x1fe7c2cdac8>,\n '难受': <gensim.models.keyedvectors.Vocab at 0x1fe7c2cdb00>,\n '平安无恙': <gensim.models.keyedvectors.Vocab at 0x1fe7c2cdb38>,\n '口腹之欲': <gensim.models.keyedvectors.Vocab at 0x1fe7c2cdb70>,\n '畜生': <gensim.models.keyedvectors.Vocab at 0x1fe7c2cdc50>,\n '地狱': <gensim.models.keyedvectors.Vocab at 0x1fe7c2cdc88>,\n '尽量少': <gensim.models.keyedvectors.Vocab at 0x1fe7c2cdcc0>,\n '敏': <gensim.models.keyedvectors.Vocab at 0x1fe7c2cdcf8>,\n '佩服': <gensim.models.keyedvectors.Vocab at 0x1fe7c2cdd30>,\n '厉害': <gensim.models.keyedvectors.Vocab at 0x1fe7c2cdd68>,\n '湖南': <gensim.models.keyedvectors.Vocab at 0x1fe7c2cdda0>,\n '四川': <gensim.models.keyedvectors.Vocab at 0x1fe7c2cddd8>,\n '福建': <gensim.models.keyedvectors.Vocab at 0x1fe7c2cde10>,\n '国内': <gensim.models.keyedvectors.Vocab at 0x1fe7c2cde48>,\n '291': <gensim.models.keyedvectors.Vocab at 0x1fe7c2cde80>,\n '你测': <gensim.models.keyedvectors.Vocab at 0x1fe7c2cdef0>,\n '害': <gensim.models.keyedvectors.Vocab at 0x1fe7c2cdf28>,\n '完蛋': <gensim.models.keyedvectors.Vocab at 0x1fe7c2cdf60>,\n '小辫儿': <gensim.models.keyedvectors.Vocab at 0x1fe7c2cdf98>,\n '张云雷': <gensim.models.keyedvectors.Vocab at 0x1fe7c2cdfd0>,\n '羊水': <gensim.models.keyedvectors.Vocab at 0x1fe7c2e7048>,\n '宝': <gensim.models.keyedvectors.Vocab at 0x1fe7c2e70f0>,\n '哈哈哈哈': <gensim.models.keyedvectors.Vocab at 0x1fe7c2e7128>,\n '上网': <gensim.models.keyedvectors.Vocab at 0x1fe7c2e7160>,\n 'IMTKKL': <gensim.models.keyedvectors.Vocab at 0x1fe7c2e7208>,\n '姐妹': <gensim.models.keyedvectors.Vocab at 0x1fe7c2e7240>,\n '善意': <gensim.models.keyedvectors.Vocab at 0x1fe7c2e7278>,\n '利用': <gensim.models.keyedvectors.Vocab at 0x1fe7c2e72e8>,\n '姨': <gensim.models.keyedvectors.Vocab at 0x1fe7c2e7320>,\n '姥爷': <gensim.models.keyedvectors.Vocab at 0x1fe7c2e7358>,\n '70': <gensim.models.keyedvectors.Vocab at 0x1fe7c2e73c8>,\n '岁': <gensim.models.keyedvectors.Vocab at 0x1fe7c2e7400>,\n '高龄': <gensim.models.keyedvectors.Vocab at 0x1fe7c2e7438>,\n '妈妈': <gensim.models.keyedvectors.Vocab at 0x1fe7c2e7470>,\n '年龄': <gensim.models.keyedvectors.Vocab at 0x1fe7c2e74a8>,\n '显示': <gensim.models.keyedvectors.Vocab at 0x1fe7c2e74e0>,\n '65': <gensim.models.keyedvectors.Vocab at 0x1fe7c2e7518>,\n '辈分': <gensim.models.keyedvectors.Vocab at 0x1fe7c2e7550>,\n '相差': <gensim.models.keyedvectors.Vocab at 0x1fe7c2e7588>,\n '五岁': <gensim.models.keyedvectors.Vocab at 0x1fe7c2e75c0>,\n '一块': <gensim.models.keyedvectors.Vocab at 0x1fe7c2e75f8>,\n '脸脸': <gensim.models.keyedvectors.Vocab at 0x1fe7c2e7630>,\n '评论': <gensim.models.keyedvectors.Vocab at 0x1fe7c2e76d8>,\n '窒息': <gensim.models.keyedvectors.Vocab at 0x1fe7c2e7710>,\n '网友': <gensim.models.keyedvectors.Vocab at 0x1fe7c2e7780>,\n '言之凿凿': <gensim.models.keyedvectors.Vocab at 0x1fe7c2e77b8>,\n '定为': <gensim.models.keyedvectors.Vocab at 0x1fe7c2e7860>,\n '当代': <gensim.models.keyedvectors.Vocab at 0x1fe7c2e7898>,\n '华佗': <gensim.models.keyedvectors.Vocab at 0x1fe7c2e78d0>,\n '张洲': <gensim.models.keyedvectors.Vocab at 0x1fe7c2e79b0>,\n '卧操': <gensim.models.keyedvectors.Vocab at 0x1fe7c2e79e8>,\n '医院': <gensim.models.keyedvectors.Vocab at 0x1fe7c2e7a58>,\n '呼吁': <gensim.models.keyedvectors.Vocab at 0x1fe7c2e7a90>,\n '捐赠': <gensim.models.keyedvectors.Vocab at 0x1fe7c2e7ac8>,\n '点到': <gensim.models.keyedvectors.Vocab at 0x1fe7c2e7ba8>,\n '内容': <gensim.models.keyedvectors.Vocab at 0x1fe7c2e7be0>,\n '理解': <gensim.models.keyedvectors.Vocab at 0x1fe7c2e7c18>,\n '日好': <gensim.models.keyedvectors.Vocab at 0x1fe7c2e7c50>,\n '豁人': <gensim.models.keyedvectors.Vocab at 0x1fe7c2e7cf8>,\n 'fermental': <gensim.models.keyedvectors.Vocab at 0x1fe7c2e7d30>,\n '重点': <gensim.models.keyedvectors.Vocab at 0x1fe7c2e7d68>,\n '12': <gensim.models.keyedvectors.Vocab at 0x1fe7c2e7da0>,\n '中旬': <gensim.models.keyedvectors.Vocab at 0x1fe7c2e7dd8>,\n '发病': <gensim.models.keyedvectors.Vocab at 0x1fe7c2e7e10>,\n '最迟': <gensim.models.keyedvectors.Vocab at 0x1fe7c2e7e48>,\n '月初': <gensim.models.keyedvectors.Vocab at 0x1fe7c2e7e80>,\n '病毒感染': <gensim.models.keyedvectors.Vocab at 0x1fe7c2e7eb8>,\n '自由': <gensim.models.keyedvectors.Vocab at 0x1fe7c2e7ef0>,\n '活动': <gensim.models.keyedvectors.Vocab at 0x1fe7c2e7f28>,\n '资源': <gensim.models.keyedvectors.Vocab at 0x1fe7c2e7f60>,\n '专业': <gensim.models.keyedvectors.Vocab at 0x1fe7c2e7f98>,\n '金银': <gensim.models.keyedvectors.Vocab at 0x1fe7c2e7fd0>,\n '湖': <gensim.models.keyedvectors.Vocab at 0x1fe7c304048>,\n '很久没': <gensim.models.keyedvectors.Vocab at 0x1fe7c304080>,\n '收入': <gensim.models.keyedvectors.Vocab at 0x1fe7c3040b8>,\n '治不收': <gensim.models.keyedvectors.Vocab at 0x1fe7c3040f0>,\n '隔离室': <gensim.models.keyedvectors.Vocab at 0x1fe7c304128>,\n '中': <gensim.models.keyedvectors.Vocab at 0x1fe7c304198>,\n '民众': <gensim.models.keyedvectors.Vocab at 0x1fe7c3041d0>,\n '警惕性': <gensim.models.keyedvectors.Vocab at 0x1fe7c304208>,\n '提升': <gensim.models.keyedvectors.Vocab at 0x1fe7c304240>,\n '感受': <gensim.models.keyedvectors.Vocab at 0x1fe7c3042b0>,\n '日爆': <gensim.models.keyedvectors.Vocab at 0x1fe7c3042e8>,\n '不明': <gensim.models.keyedvectors.Vocab at 0x1fe7c3043c8>,\n '跨': <gensim.models.keyedvectors.Vocab at 0x1fe7c304400>,\n '前一天': <gensim.models.keyedvectors.Vocab at 0x1fe7c304438>,\n '慌到': <gensim.models.keyedvectors.Vocab at 0x1fe7c304470>,\n '家': <gensim.models.keyedvectors.Vocab at 0x1fe7c3044a8>,\n '每次': <gensim.models.keyedvectors.Vocab at 0x1fe7c3044e0>,\n '微博热': <gensim.models.keyedvectors.Vocab at 0x1fe7c304518>,\n '小道消息': <gensim.models.keyedvectors.Vocab at 0x1fe7c304550>,\n '飞起': <gensim.models.keyedvectors.Vocab at 0x1fe7c304588>,\n '病': <gensim.models.keyedvectors.Vocab at 0x1fe7c3045f8>,\n '得病': <gensim.models.keyedvectors.Vocab at 0x1fe7c304630>,\n '难': <gensim.models.keyedvectors.Vocab at 0x1fe7c304668>,\n '很难': <gensim.models.keyedvectors.Vocab at 0x1fe7c3046d8>,\n '预料到': <gensim.models.keyedvectors.Vocab at 0x1fe7c304710>,\n '团结起来': <gensim.models.keyedvectors.Vocab at 0x1fe7c304780>,\n '03': <gensim.models.keyedvectors.Vocab at 0x1fe7c304828>,\n '印象': <gensim.models.keyedvectors.Vocab at 0x1fe7c304898>,\n '小学': <gensim.models.keyedvectors.Vocab at 0x1fe7c304908>,\n '老爸': <gensim.models.keyedvectors.Vocab at 0x1fe7c304940>,\n '老妈': <gensim.models.keyedvectors.Vocab at 0x1fe7c304978>,\n '煮': <gensim.models.keyedvectors.Vocab at 0x1fe7c3049b0>,\n '醋': <gensim.models.keyedvectors.Vocab at 0x1fe7c3049e8>,\n '挂': <gensim.models.keyedvectors.Vocab at 0x1fe7c304a20>,\n '大蒜': <gensim.models.keyedvectors.Vocab at 0x1fe7c304ac8>,\n '上学': <gensim.models.keyedvectors.Vocab at 0x1fe7c304b00>,\n '完要': <gensim.models.keyedvectors.Vocab at 0x1fe7c304b38>,\n '清洗': <gensim.models.keyedvectors.Vocab at 0x1fe7c304b70>,\n '换洗': <gensim.models.keyedvectors.Vocab at 0x1fe7c304ba8>,\n '当年': <gensim.models.keyedvectors.Vocab at 0x1fe7c304be0>,\n '佩戴': <gensim.models.keyedvectors.Vocab at 0x1fe7c304c18>,\n '白色棉': <gensim.models.keyedvectors.Vocab at 0x1fe7c304c50>,\n '17': <gensim.models.keyedvectors.Vocab at 0x1fe7c304c88>,\n '父母': <gensim.models.keyedvectors.Vocab at 0x1fe7c304cc0>,\n '长大': <gensim.models.keyedvectors.Vocab at 0x1fe7c304d30>,\n '角色': <gensim.models.keyedvectors.Vocab at 0x1fe7c304d68>,\n '交换': <gensim.models.keyedvectors.Vocab at 0x1fe7c304dd8>,\n '科普': <gensim.models.keyedvectors.Vocab at 0x1fe7c304e10>,\n '买好': <gensim.models.keyedvectors.Vocab at 0x1fe7c304e48>,\n '感冒药': <gensim.models.keyedvectors.Vocab at 0x1fe7c304eb8>,\n '白醋': <gensim.models.keyedvectors.Vocab at 0x1fe7c304ef0>,\n ...}"
     },
     "metadata": {},
     "execution_count": 4
    }
   ],
   "source": [
    "# 训练词向量\n",
    "sentences = word.LineSentence('word_cut.txt')\n",
    "model = word.Word2Vec(sentences, hs=1, min_count=1, window=3, size=100)\n",
    "print(len(model.wv.vocab))\n",
    "model.wv.vocab"
   ]
  },
  {
   "cell_type": "markdown",
   "metadata": {},
   "source": [
    "## 2 数据预处理"
   ]
  },
  {
   "cell_type": "code",
   "execution_count": 5,
   "metadata": {
    "tags": []
   },
   "outputs": [],
   "source": [
    "# li = []\n",
    "# suma = 0\n",
    "# n = 0\n",
    "# for f in load_train:\n",
    "#     li.append(len(f['content']))\n",
    "#     suma += len(f['content'])\n",
    "#     n += 1\n",
    "# la = sorted(li)\n",
    "# print('max: %d, mean: %.4f' % (la[-1], suma/n))\n",
    "\n",
    "# plt.plot(range(n), li)"
   ]
  },
  {
   "cell_type": "code",
   "execution_count": 13,
   "metadata": {
    "tags": []
   },
   "outputs": [],
   "source": [
    "# 分离特征和标签\n",
    "def split_x_y(load_data):\n",
    "    X, y = [], []\n",
    "    for data in load_data:\n",
    "        X.append(data['content'])\n",
    "        y.append(data['label'])\n",
    "    return X, y\n",
    "\n",
    "train_x, train_y = split_x_y(load_train)\n",
    "valid_x, valid_y = split_x_y(load_valid)\n",
    "test_x, test_y = split_x_y(load_test)"
   ]
  },
  {
   "cell_type": "code",
   "execution_count": 24,
   "metadata": {
    "tags": []
   },
   "outputs": [
    {
     "output_type": "stream",
     "name": "stdout",
     "text": "['天使']\n"
    }
   ],
   "source": [
    "# 分词，并去掉停用词\n",
    "def words_after_jieba(X):\n",
    "    result = []\n",
    "    stopwords = [line.strip() for line in open('stopword.txt', 'r', encoding='utf-8').readlines()]\n",
    "    for sentence in X:\n",
    "        sentence = jieba.cut(sentence)\n",
    "        words = []\n",
    "        for word in sentence:\n",
    "            if word not in stopwords:\n",
    "                if word != '\\t':\n",
    "                    words.append(word)\n",
    "        result.append(words)\n",
    "    return result\n",
    "\n",
    "train_X = words_after_jieba(train_x)\n",
    "valid_X = words_after_jieba(valid_x)\n",
    "test_X = words_after_jieba(test_x)\n"
   ]
  },
  {
   "cell_type": "code",
   "execution_count": 45,
   "metadata": {
    "tags": []
   },
   "outputs": [],
   "source": [
    "# 词向量映射\n",
    "def form_embedding(corpus, model):\n",
    "    # 读取词向量\n",
    "    w2v = dict(zip(model.wv.index2word, model.wv.vectors))\n",
    "\n",
    "    # 创建词语词典，从而知道文本中有多少词语\n",
    "    w2vindex = dict() # 词语为key，索引为value的字典\n",
    "    index = 1\n",
    "    embedding_dim = 100\n",
    "    for sentence in corpus:\n",
    "        for word in sentence:\n",
    "            if word not in w2vindex:\n",
    "                w2vindex[word] = index\n",
    "                index += 1\n",
    "\n",
    "    # 建立词语到词向量的映射\n",
    "    # embeddings = np.random.randn(len(w2index) + 1, self.embedding_dim)\n",
    "    embeddings = np.zeros(shape=(len(w2vindex) + 1, embedding_dim), dtype=float)\n",
    "    embeddings[0] = 0   # 未映射到的词语，全部赋值为0\n",
    "\n",
    "    n_not_in_w2v = 0\n",
    "    for word, index in w2vindex.items():\n",
    "        if word in model.wv.vocab:\n",
    "            embeddings[index] = model.wv[word]\n",
    "        else:\n",
    "            n_not_in_w2v += 1\n",
    "\n",
    "    del model, w2v\n",
    "\n",
    "    # 语料从中文词映射为索引\n",
    "    x = [[w2vindex[word] for word in sentence] for sentence in corpus]\n",
    "\n",
    "    return embeddings, x\n",
    "\n",
    "train_embd, train_embd_x = form_embedding(train_X, model)\n",
    "valid_embd, valid_embd_x = form_embedding(valid_X, model)\n",
    "test_embd, test_embd_x = form_embedding(test_X, model)"
   ]
  },
  {
   "cell_type": "markdown",
   "metadata": {},
   "source": [
    "## 3 构建LSTM网络"
   ]
  },
  {
   "cell_type": "code",
   "execution_count": null,
   "metadata": {},
   "outputs": [],
   "source": [
    "# 定义模型\n",
    "class TextLSTM(nn.Module):\n",
    "    def __init__():\n",
    "        super().__init__()\n",
    "    \n",
    "    def forward():\n"
   ]
  }
 ]
}